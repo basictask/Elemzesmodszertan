{
 "cells": [
  {
   "cell_type": "markdown",
   "metadata": {},
   "source": [
    "## Neurális hálózatok"
   ]
  },
  {
   "cell_type": "code",
   "execution_count": 1,
   "metadata": {},
   "outputs": [
    {
     "name": "stdout",
     "output_type": "stream",
     "text": [
      "Defaulting to user installation because normal site-packages is not writeable\n",
      "Collecting keract\n",
      "  Downloading keract-4.5.1-py3-none-any.whl (12 kB)\n",
      "Installing collected packages: keract\n",
      "Successfully installed keract-4.5.1\n"
     ]
    }
   ],
   "source": [
    "!pip install keract"
   ]
  },
  {
   "cell_type": "code",
   "execution_count": null,
   "metadata": {},
   "outputs": [
    {
     "ename": "",
     "evalue": "",
     "output_type": "error",
     "traceback": [
      "\u001b[1;31mThe Kernel crashed while executing code in the the current cell or a previous cell. Please review the code in the cell(s) to identify a possible cause of the failure. Click <a href='https://aka.ms/vscodeJupyterKernelCrash'>here</a> for more info. View Jupyter <a href='command:jupyter.viewOutput'>log</a> for further details."
     ]
    }
   ],
   "source": [
    "#1 Set up packages\n",
    "import pandas as pd\n",
    "import numpy as np\n",
    "import matplotlib as mpl\n",
    "import matplotlib.pyplot as plt\n",
    "from matplotlib import image\n",
    "import seaborn as sns\n",
    "\n",
    "import itertools\n",
    "from sklearn.metrics import confusion_matrix\n",
    "from sklearn.model_selection import train_test_split # 0.23.2\n",
    "\n",
    "import tensorflow as tf # 2.4.0\n",
    "from tensorflow.keras.models import load_model\n",
    "from keras.utils.np_utils import to_categorical # One-hot kódolás\n",
    "from tensorflow.keras.models import Sequential\n",
    "from tensorflow.keras.layers import Dense, Dropout, Flatten, Conv2D, MaxPool2D\n",
    "from tensorflow.keras.optimizers import RMSprop\n",
    "from keras.preprocessing.image import ImageDataGenerator\n",
    "from tensorflow.keras.callbacks import ReduceLROnPlateau\n",
    "\n",
    "#from keract import get_activations, display_activations\n",
    "#from keract.keract import display_heatmaps\n",
    "\n",
    "import warnings\n",
    "warnings.filterwarnings('ignore')\n",
    "tf.compat.v1.disable_eager_execution()\n",
    "sns.set(style='white', context='notebook', palette='deep')"
   ]
  },
  {
   "cell_type": "markdown",
   "metadata": {},
   "source": [
    "### Adatok betöltése"
   ]
  },
  {
   "cell_type": "code",
   "execution_count": null,
   "metadata": {},
   "outputs": [],
   "source": [
    "train = pd.read_csv(\"train.csv\")\n",
    "test = pd.read_csv(\"test.csv\")\n",
    "\n",
    "Y_train = train[\"label\"]\n",
    "X_train = train.drop(\"label\", axis=1) \n",
    "\n",
    "\n",
    "hist = Y_train.value_counts()\n",
    "plt.figure(figsize=(6, 6))\n",
    "plt.title('Osztályok hisztogramja')\n",
    "sns.barplot(x=np.arange(len(hist)), y=hist)\n",
    "plt.ylabel('')\n",
    "plt.show()"
   ]
  },
  {
   "cell_type": "markdown",
   "metadata": {},
   "source": [
    "### Számok mutatása egy táblázatban"
   ]
  },
  {
   "cell_type": "code",
   "execution_count": null,
   "metadata": {},
   "outputs": [],
   "source": [
    "plt.figure(figsize=(14,12))\n",
    "for digit_num in range(0,70):\n",
    "    plt.subplot(7,10,digit_num+1)\n",
    "    grid_data = test.iloc[digit_num].to_numpy().reshape(28,28)\n",
    "    plt.imshow(grid_data, interpolation = \"none\", cmap = \"afmhot\")\n",
    "    plt.xticks([])\n",
    "    plt.yticks([])\n",
    "plt.tight_layout()"
   ]
  },
  {
   "cell_type": "markdown",
   "metadata": {},
   "source": [
    "### Null és hiányzó értékek keresése"
   ]
  },
  {
   "cell_type": "code",
   "execution_count": null,
   "metadata": {},
   "outputs": [],
   "source": [
    "print(X_train.isnull().any().describe())\n",
    "print('---------------')\n",
    "print(test.isnull().any().describe())"
   ]
  },
  {
   "cell_type": "markdown",
   "metadata": {},
   "source": [
    "### Előfeldolgozás"
   ]
  },
  {
   "cell_type": "code",
   "execution_count": null,
   "metadata": {},
   "outputs": [],
   "source": [
    "# Normalizálás\n",
    "X_train = X_train / 255.0\n",
    "test = test / 255.0\n",
    "\n",
    "# Átalakítás 1x28x28x1 -es mátrixokká: a Keras-nak szüksége van egy extra dimenzióra\n",
    "X_train = X_train.values.reshape(-1,28,28,1)\n",
    "test = test.values.reshape(-1,28,28,1)\n",
    "\n",
    "# Vektorkódolás\n",
    "Y_train = to_categorical(Y_train, num_classes = 10)"
   ]
  },
  {
   "cell_type": "markdown",
   "metadata": {},
   "source": [
    "### Train-Test szétválasztás"
   ]
  },
  {
   "cell_type": "code",
   "execution_count": null,
   "metadata": {},
   "outputs": [],
   "source": [
    "X_train, X_val, Y_train, Y_val = train_test_split(X_train, Y_train, test_size = 0.1, random_state=2)\n",
    "\n",
    "g = plt.imshow(X_train[0][:,:,0])"
   ]
  },
  {
   "cell_type": "markdown",
   "metadata": {},
   "source": [
    "### Aktivációs függvények vizualizálása"
   ]
  },
  {
   "cell_type": "code",
   "execution_count": null,
   "metadata": {},
   "outputs": [],
   "source": [
    "def sigmoid(z):\n",
    "    return 1 / (1 + np.exp(-z))\n",
    "\n",
    "def relu(z):\n",
    "    return np.maximum(0, z)\n",
    "\n",
    "def derivative(f, z, eps=0.000001):\n",
    "    return (f(z + eps) - f(z - eps))/(2 * eps)\n",
    "\n",
    "z = np.linspace(-5, 5, 200)\n",
    "plt.figure(figsize=(15,5))\n",
    "\n",
    "plt.subplot(121)\n",
    "plt.plot(z, np.sign(z), \"r-\", linewidth=1, label=\"Step\")\n",
    "plt.plot(z, sigmoid(z), \"g--\", linewidth=2, label=\"Sigmoid\")\n",
    "plt.plot(z, np.tanh(z), \"b-\", linewidth=2, label=\"Tanh\")\n",
    "plt.plot(z, relu(z), \"m-.\", linewidth=2, label=\"ReLU\")\n",
    "plt.grid(True)\n",
    "plt.legend(loc=\"center right\", fontsize=14)\n",
    "plt.title(\"Aktivációs függvények\", fontsize=14)\n",
    "plt.axis([-5, 5, -1.2, 1.2])\n",
    "\n",
    "plt.subplot(122)\n",
    "plt.plot(z, derivative(np.sign, z), \"r-\", linewidth=1, label=\"Step\")\n",
    "plt.plot(0, 0, \"ro\", markersize=5)\n",
    "plt.plot(0, 0, \"rx\", markersize=10)\n",
    "plt.plot(z, derivative(sigmoid, z), \"g--\", linewidth=2, label=\"Sigmoid\")\n",
    "plt.plot(z, derivative(np.tanh, z), \"b-\", linewidth=2, label=\"Tanh\")\n",
    "plt.plot(z, derivative(relu, z), \"m-.\", linewidth=2, label=\"ReLU\")\n",
    "plt.grid(True)\n",
    "#plt.legend(loc=\"center right\", fontsize=14)\n",
    "plt.title(\"Deriváltjaik\", fontsize=14)\n",
    "plt.axis([-5, 5, -0.2, 1.2])\n",
    "\n",
    "plt.show()"
   ]
  },
  {
   "cell_type": "markdown",
   "metadata": {},
   "source": [
    "### Szeparáció aktivációs függvények szerint\n",
    "Figyeljük meg, hogyan képesek ezek a függvények szétbontani a teret osztályozáshoz"
   ]
  },
  {
   "cell_type": "code",
   "execution_count": null,
   "metadata": {},
   "outputs": [],
   "source": [
    "def mlp_xor(x1, x2, activation):\n",
    "    return activation(-activation(x1 + x2 - 1.5) + activation(x1 + x2 - 0.5) - 0.5)\n",
    "\n",
    "x1s = np.linspace(-0.2, 1.2, 100)\n",
    "x2s = np.linspace(-0.2, 1.2, 100)\n",
    "x1, x2 = np.meshgrid(x1s, x2s)\n",
    "\n",
    "z1 = mlp_xor(x1, x2, activation=relu)\n",
    "z2 = mlp_xor(x1, x2, activation=sigmoid)\n",
    "\n",
    "plt.figure(figsize=(15,5))\n",
    "\n",
    "plt.subplot(121)\n",
    "plt.contourf(x1, x2, z1)\n",
    "plt.plot([0, 1], [0, 1], \"gs\", markersize=20)\n",
    "plt.plot([0, 1], [1, 0], \"y^\", markersize=20)\n",
    "plt.title(\"Aktivációs függvény: ReLu\", fontsize=14)\n",
    "plt.grid(True)\n",
    "\n",
    "plt.subplot(122)\n",
    "plt.contourf(x1, x2, z2)\n",
    "plt.plot([0, 1], [0, 1], \"gs\", markersize=20)\n",
    "plt.plot([0, 1], [1, 0], \"y^\", markersize=20)\n",
    "plt.title(\"Aktivációs függvény: Sigmoid\", fontsize=14)\n",
    "plt.grid(True)"
   ]
  },
  {
   "cell_type": "markdown",
   "metadata": {},
   "source": [
    "### Konvolúciós háló (CNN) modell felépítése\n",
    "Először létrehozzuk a modellt, majd egyesével hozzáadjuk a rétegeket."
   ]
  },
  {
   "cell_type": "code",
   "execution_count": null,
   "metadata": {},
   "outputs": [],
   "source": [
    "## Input -> [[Conv2D->relu]*2 -> MaxPool2D -> Dropout]*2 -> Flatten -> Dense -> Dropout -> Output\n",
    "model = Sequential()\n",
    "\n",
    "model.add(Conv2D(filters=32, kernel_size=(5,5), padding='Same', activation='relu', input_shape=(28,28,1)))\n",
    "\n",
    "model.add(Conv2D(filters=32, kernel_size=(5,5), padding='Same', activation='relu'))\n",
    "model.add(MaxPool2D(pool_size=(2,2)))\n",
    "model.add(Dropout(0.25))\n",
    "\n",
    "model.add(Conv2D(filters=64, kernel_size=(3,3), padding='Same', activation='relu'))\n",
    "model.add(Conv2D(filters=64, kernel_size=(3,3), padding='Same', activation='relu'))\n",
    "model.add(MaxPool2D(pool_size=(2,2), strides=(2,2)))\n",
    "model.add(Dropout(0.25))\n",
    "\n",
    "model.add(Flatten())\n",
    "model.add(Dense(256, activation=\"relu\"))\n",
    "model.add(Dropout(0.5))\n",
    "model.add(Dense(10, activation=\"softmax\", name='preds')) # Eloszlási valószínűség minden osztályra\n",
    "\n",
    "model.summary()"
   ]
  },
  {
   "cell_type": "markdown",
   "metadata": {},
   "source": [
    "### Otimalizáló és teljesítmény metrika\n",
    "Az optimalizáló adja meg azt a módszert, amivel a paraméterek frissítéseit számoljuk.\n",
    "\n",
    "A teljesítmény mértéke a kategorikus keresztentrópia, ami alkalmas multiclass osztályozáshoz."
   ]
  },
  {
   "cell_type": "code",
   "execution_count": null,
   "metadata": {},
   "outputs": [],
   "source": [
    "optimizer = tf.keras.optimizers.legacy.RMSprop(learning_rate = 0.001, rho = 0.9, epsilon = 1e-08)\n",
    "\n",
    "model.compile(optimizer = optimizer, loss = \"categorical_crossentropy\", metrics = [\"accuracy\"])"
   ]
  },
  {
   "cell_type": "markdown",
   "metadata": {},
   "source": [
    "### Rétegek vizualizálása"
   ]
  },
  {
   "cell_type": "code",
   "execution_count": null,
   "metadata": {},
   "outputs": [],
   "source": [
    "keract_inputs = np.array(X_train[3:4]) # ez egy 3-as szám\n",
    "print(keract_inputs.shape)\n",
    "\n",
    "keract_inputs = np.reshape(keract_inputs, (28, 28, 1))\n",
    "keract_inputs = keract_inputs[np.newaxis, ...]\n",
    "\n",
    "print(keract_inputs.shape)\n",
    "\n",
    "activations = get_activations(model, keract_inputs)\n",
    "display_activations(activations, cmap=\"gray\", save=False)"
   ]
  },
  {
   "cell_type": "markdown",
   "metadata": {},
   "source": [
    "### Heatmap-ek vizualizálása\n",
    "A heatmap a neurális hálózat neuron aktivációinak magnitúdója."
   ]
  },
  {
   "cell_type": "code",
   "execution_count": null,
   "metadata": {},
   "outputs": [],
   "source": [
    "display_heatmaps(activations, keract_inputs, directory='.', save=False, fix=True, merge_filters=False)"
   ]
  },
  {
   "cell_type": "markdown",
   "metadata": {},
   "source": [
    "### Gyorsított tanítási eljárás\n",
    "Ebben az esetben kihagyjuk az augmentációt, és csak 2000 számon tanítjuk a modellt, 5 epoch-on keresztül.\n",
    "\n",
    "Figyeljük meg, hogyan zajlik a tanítási eljárás!"
   ]
  },
  {
   "cell_type": "code",
   "execution_count": null,
   "metadata": {},
   "outputs": [],
   "source": [
    "history = model.fit(X_train[:2000], Y_train[:2000], batch_size=1000, epochs=5, \n",
    "                    validation_data=(X_val[:500], Y_val[:500]), verbose=1)"
   ]
  },
  {
   "cell_type": "markdown",
   "metadata": {},
   "source": [
    "### Modell kiértékelése"
   ]
  },
  {
   "cell_type": "code",
   "execution_count": null,
   "metadata": {},
   "outputs": [],
   "source": [
    "def measure_model(hist):\n",
    "    # Train és teszt pontosságok\n",
    "    plt.figure(figsize=(9,5))\n",
    "    plt.plot(hist.history['accuracy'], lw=3, c='r')\n",
    "    plt.plot(hist.history['val_accuracy'], lw=3, c='b')\n",
    "    plt.title('Modell pontossága', size=20)\n",
    "    plt.ylabel('Pontosság', size=15)\n",
    "    plt.xlabel('Epoch', size=15)\n",
    "    plt.legend(['Train', 'Test'], loc='upper left')\n",
    "    plt.show()\n",
    "    \n",
    "    \n",
    "    # Train és teszt költségek \n",
    "    plt.figure(figsize=(9,5))\n",
    "    plt.plot(hist.history['loss'], lw=3, c='r')\n",
    "    plt.plot(hist.history['val_loss'], lw=3, c='b')\n",
    "    plt.title('Modell költsége', size=20)\n",
    "    plt.ylabel('Loss', size=15)\n",
    "    plt.xlabel('Epoch', size=15)\n",
    "    plt.legend(['Train', 'Test'], loc='upper left')\n",
    "    plt.show()\n",
    "\n",
    "measure_model(history)"
   ]
  },
  {
   "cell_type": "markdown",
   "metadata": {},
   "source": [
    "### Adataugmentálás\n",
    "Augmentálás során egy ImageDataGenerator objektum jön létre, ami iterálható adatstruktúraként működik."
   ]
  },
  {
   "cell_type": "code",
   "execution_count": null,
   "metadata": {},
   "outputs": [],
   "source": [
    "datagen = ImageDataGenerator(featurewise_center=False, \n",
    "                             samplewise_center=False,\n",
    "                             featurewise_std_normalization=False, \n",
    "                             samplewise_std_normalization=False, \n",
    "                             zca_whitening=False,\n",
    "                             rotation_range=10,\n",
    "                             zoom_range=0.1,\n",
    "                             width_shift_range=0.1,\n",
    "                             horizontal_flip=False,\n",
    "                             vertical_flip=False)\n",
    "datagen.fit(X_train)\n",
    "\n",
    "print(datagen)"
   ]
  },
  {
   "cell_type": "markdown",
   "metadata": {},
   "source": [
    "### Modell taníttatása\n",
    "Ez sokáig is tarthat. "
   ]
  },
  {
   "cell_type": "code",
   "execution_count": null,
   "metadata": {},
   "outputs": [],
   "source": [
    "history = model.fit_generator(datagen.flow(X_train, Y_train), \n",
    "                              epochs=1,\n",
    "                              validation_data=(X_val, Y_val), \n",
    "                              verbose=1)\n",
    "\n",
    "# measure_model(history) # Ha valaki lefuttatja ezt, mérje meg a teljesítményt"
   ]
  },
  {
   "cell_type": "markdown",
   "metadata": {},
   "source": [
    "### Modell betöltése / elmentése\n",
    "Mivel a tanítás több órát is igénybe vehet, töltsük be a modellt egy fájlból.\n",
    "\n",
    "Próbáljuk meg ismételten lefuttatni a rétegek vizualizálását, a már betöltött modellen! Milyen különbséget figyelhetünk meg?"
   ]
  },
  {
   "cell_type": "code",
   "execution_count": null,
   "metadata": {},
   "outputs": [],
   "source": [
    "model = load_model('digit_model.h5')\n",
    "\n",
    "# model.save('digit_model.h5')\n",
    "\n",
    "print(model)"
   ]
  },
  {
   "cell_type": "markdown",
   "metadata": {},
   "source": [
    "### Predikció a teszt adatokon!"
   ]
  },
  {
   "cell_type": "code",
   "execution_count": null,
   "metadata": {},
   "outputs": [],
   "source": [
    "Y_pred = model.predict(X_val)\n",
    "\n",
    "Y_pred_classes = np.argmax(Y_pred,axis = 1) \n",
    "\n",
    "Y_true = np.argmax(Y_val,axis = 1)\n",
    "\n",
    "display(pd.DataFrame(Y_pred[:10]))\n",
    "\n",
    "display(Y_pred_classes[:10])"
   ]
  },
  {
   "cell_type": "markdown",
   "metadata": {},
   "source": [
    "### Konfúziós mátrix kirajzolása"
   ]
  },
  {
   "cell_type": "code",
   "execution_count": null,
   "metadata": {},
   "outputs": [],
   "source": [
    "def plot_confusion_matrix(cm, classes, normalize=False, title='Konfúziós mátrix', cmap=plt.cm.Blues):\n",
    "    plt.figure(figsize=(10,10))\n",
    "    plt.imshow(cm, interpolation='nearest', cmap=cmap)\n",
    "    plt.title(title, size=20)\n",
    "    plt.colorbar()\n",
    "    tick_marks = np.arange(len(classes))\n",
    "    plt.xticks(tick_marks, classes, rotation=45)\n",
    "    plt.yticks(tick_marks, classes)\n",
    "    \n",
    "    if normalize:\n",
    "        cm = cm.astype('float') / cm.sum(axis=1)[:, np.newaxis]\n",
    "        \n",
    "    thresh = cm.max() / 2\n",
    "    for i, j in itertools.product(range(cm.shape[0]), range(cm.shape[1])):\n",
    "        plt.text(j, i, cm[i,j], horizontalalignment='center',\n",
    "                 color='white' if cm[i, j] > thresh else 'black')\n",
    "        \n",
    "    plt.tight_layout()\n",
    "    plt.ylabel('Valós címke', size=15)\n",
    "    plt.xlabel('Becsült címke', size=15)\n",
    "\n",
    "confusion_mtx = confusion_matrix(Y_true, Y_pred_classes) \n",
    "\n",
    "plot_confusion_matrix(confusion_mtx, classes = range(10))"
   ]
  },
  {
   "cell_type": "markdown",
   "metadata": {},
   "source": [
    "### Normalizált konfúziós mátrix\n",
    "A normalizálással látni fogjuk a modell relatív hibáit. Mi látható rajta? Melyik számot keverte össze melyikkel?\n"
   ]
  },
  {
   "cell_type": "code",
   "execution_count": null,
   "metadata": {},
   "outputs": [],
   "source": [
    "row_sums = confusion_mtx.sum(axis=1, keepdims=True)\n",
    "norm_conf_mx = confusion_mtx / row_sums\n",
    "\n",
    "np.fill_diagonal(norm_conf_mx, 0)\n",
    "\n",
    "plt.figure(figsize=(8,8))\n",
    "plt.title(\"Normalizált kontingencia mátrix\", size=20)\n",
    "plt.matshow(norm_conf_mx, cmap=plt.cm.gray, fignum=0)\n",
    "plt.ylabel('Valós osztályok', size=15)\n",
    "plt.xlabel('Becsült osztályok', size=15)\n",
    "plt.xticks(np.arange(10), size=15)\n",
    "plt.yticks(np.arange(10), size=15)\n",
    "plt.show()"
   ]
  },
  {
   "cell_type": "markdown",
   "metadata": {},
   "source": [
    "### Próbáljuk meg csak 4, 9 számokat kirajzolni\n",
    "Amit láthatunk, egy különleges kontingencia tábla, amiben a négyeseket és kilenceseket veti össze a modell. \n",
    "\n",
    "Ezek személyre szabhatók! Próbáljuk meg a normalizált konfúziós mátrix alapján saját számokkal futtatni."
   ]
  },
  {
   "cell_type": "code",
   "execution_count": null,
   "metadata": {},
   "outputs": [],
   "source": [
    "def plot_digits(instances, images_per_row=10, **options):\n",
    "    size = 28\n",
    "    images_per_row = min(len(instances), images_per_row)\n",
    "    images = [instance.reshape(size,size) for instance in instances]\n",
    "    n_rows = (len(instances) - 1) // images_per_row + 1\n",
    "    row_images = []\n",
    "    n_empty = n_rows * images_per_row - len(instances)\n",
    "    images.append(np.zeros((size, size * n_empty)))\n",
    "    for row in range(n_rows):\n",
    "        rimages = images[row * images_per_row : (row + 1) * images_per_row]\n",
    "        row_images.append(np.concatenate(rimages, axis=1))\n",
    "    image = np.concatenate(row_images, axis=0)\n",
    "    plt.imshow(image, cmap = mpl.cm.binary, **options)\n",
    "    plt.axis(\"off\")\n",
    "\n",
    "Y_train_reverted = np.argmax(Y_train, axis=1)\n",
    "Y_train_pred = model.predict(X_train)\n",
    "Y_train_pred_reverted = np.argmax(Y_train_pred, axis=1)\n",
    "\n",
    "cl_a, cl_b = 4, 9\n",
    "X_aa = X_train[(Y_train_reverted==cl_a) & (Y_train_pred_reverted==cl_a)]\n",
    "X_ab = X_train[(Y_train_reverted==cl_a) & (Y_train_pred_reverted==cl_b)]\n",
    "X_ba = X_train[(Y_train_reverted==cl_b) & (Y_train_pred_reverted==cl_a)]\n",
    "X_bb = X_train[(Y_train_reverted==cl_b) & (Y_train_pred_reverted==cl_b)]\n",
    "\n",
    "plt.figure(figsize=(8,8))\n",
    "plt.subplot(221); plot_digits(X_aa[:25], images_per_row=5)\n",
    "plt.subplot(222); plot_digits(X_ab[:25], images_per_row=5)\n",
    "plt.subplot(223); plot_digits(X_ba[:25], images_per_row=5)\n",
    "plt.subplot(224); plot_digits(X_bb[:25], images_per_row=5)\n",
    "plt.show()"
   ]
  },
  {
   "cell_type": "markdown",
   "metadata": {},
   "source": [
    "### A hibás kimenetek megjelenítése\n",
    "Próbáljuk meg a legnagyobb hibával rendelkező egyedeket kirakni a képernyőre. "
   ]
  },
  {
   "cell_type": "code",
   "execution_count": null,
   "metadata": {},
   "outputs": [],
   "source": [
    "errors = (Y_pred_classes - Y_true != 0)\n",
    "\n",
    "Y_pred_classes_errors = Y_pred_classes[errors]\n",
    "Y_pred_errors = Y_pred[errors]\n",
    "Y_true_errors = Y_true[errors]\n",
    "X_val_errors = X_val[errors]\n",
    "\n",
    "def display_errors(errors_index, img_errors, pred_errors, obs_errors):\n",
    "    n = 0\n",
    "    nrows, ncols = 2, 3\n",
    "    fig, ax = plt.subplots(2, 3, sharex=True,sharey=True, figsize=(15,9))\n",
    "    for row in range(nrows):\n",
    "        for col in range(ncols):\n",
    "            error = errors_index[n]\n",
    "            ax[row,col].imshow((img_errors[error]).reshape((28,28)))\n",
    "            ax[row,col].set_title(\"Becsült címke: {}\\nValós címke: {}\".format(pred_errors[error],\n",
    "                                                                               obs_errors[error]), size=15)\n",
    "            n += 1\n",
    "\n",
    "# Rossz predikciók valószínűsége\n",
    "Y_pred_errors_prob = np.max(Y_pred_errors,axis = 1)\n",
    "\n",
    "# Becsült valószínűsége az igazi értékeknek a hibás adathalmazon \n",
    "true_prob_errors = np.diagonal(np.take(Y_pred_errors, Y_true_errors, axis=1))\n",
    "\n",
    "# A becsült és valós értékek közötti különbség\n",
    "delta_pred_true_errors = Y_pred_errors_prob - true_prob_errors\n",
    "\n",
    "# Rendezett lista a különbségekről\n",
    "sorted_dela_errors = np.argsort(delta_pred_true_errors)\n",
    "\n",
    "# Top 6 hibás adat\n",
    "most_important_errors = sorted_dela_errors[-6:]\n",
    "\n",
    "# Top 6 hibás adat kirajzolása\n",
    "display_errors(most_important_errors, X_val_errors, Y_pred_classes_errors, Y_true_errors)"
   ]
  },
  {
   "cell_type": "markdown",
   "metadata": {},
   "source": [
    "### Predikció a validációs adatokon"
   ]
  },
  {
   "cell_type": "code",
   "execution_count": null,
   "metadata": {},
   "outputs": [],
   "source": [
    "results_pred = model.predict(test)\n",
    "\n",
    "results = np.argmax(results_pred, axis = 1)\n",
    "\n",
    "results = pd.Series(results, name=\"Label\")\n",
    "\n",
    "display(pd.DataFrame(results_pred[:10]))\n",
    "print()\n",
    "display(results[:10])"
   ]
  },
  {
   "cell_type": "markdown",
   "metadata": {},
   "source": [
    "### Saját képen predikció\n",
    "Ez a blokk beolvassa a \"black_28x28.png\" képet, átalakítja, majd csinál egy predikciót."
   ]
  },
  {
   "cell_type": "code",
   "execution_count": null,
   "metadata": {},
   "outputs": [],
   "source": [
    "img = image.imread('black_28x28.png')\n",
    "\n",
    "data = pd.DataFrame([list(img[i,:,0]) for i in range(28)])\n",
    "\n",
    "temp = test[0:1]\n",
    "\n",
    "temp2 = img[:,:,0:1]\n",
    "\n",
    "temp[0] = temp2\n",
    "\n",
    "results = model.predict(temp)\n",
    "\n",
    "results = results.T\n",
    "\n",
    "pred = -1\n",
    "for i,j in zip(range(len(results)), results):\n",
    "    if(j==max(results)):\n",
    "        pred=i\n",
    "\n",
    "plt.title('A becsult ertek: '+str(pred), fontsize=20)\n",
    "plt.imshow(img)"
   ]
  },
  {
   "cell_type": "code",
   "execution_count": null,
   "metadata": {},
   "outputs": [],
   "source": []
  }
 ],
 "metadata": {
  "anaconda-cloud": {},
  "kernelspec": {
   "display_name": "Python 3 (ipykernel)",
   "language": "python",
   "name": "python3"
  },
  "language_info": {
   "codemirror_mode": {
    "name": "ipython",
    "version": 3
   },
   "file_extension": ".py",
   "mimetype": "text/x-python",
   "name": "python",
   "nbconvert_exporter": "python",
   "pygments_lexer": "ipython3",
   "version": "3.11.5"
  },
  "varInspector": {
   "cols": {
    "lenName": 16,
    "lenType": 16,
    "lenVar": 40
   },
   "kernels_config": {
    "python": {
     "delete_cmd_postfix": "",
     "delete_cmd_prefix": "del ",
     "library": "var_list.py",
     "varRefreshCmd": "print(var_dic_list())"
    },
    "r": {
     "delete_cmd_postfix": ") ",
     "delete_cmd_prefix": "rm(",
     "library": "var_list.r",
     "varRefreshCmd": "cat(var_dic_list()) "
    }
   },
   "types_to_exclude": [
    "module",
    "function",
    "builtin_function_or_method",
    "instance",
    "_Feature"
   ],
   "window_display": false
  }
 },
 "nbformat": 4,
 "nbformat_minor": 4
}
